{
 "cells": [
  {
   "cell_type": "code",
   "execution_count": 34,
   "id": "2d6838b4-a874-43a3-9c87-ca045f28e4b0",
   "metadata": {},
   "outputs": [
    {
     "name": "stdout",
     "output_type": "stream",
     "text": [
      "\n",
      "0: 640x640 1 tracks, 10.6ms\n",
      "Speed: 1.8ms preprocess, 10.6ms inference, 1.3ms postprocess per image at shape (1, 3, 640, 640)\n"
     ]
    }
   ],
   "source": [
    "import numpy as np \n",
    "import cv2\n",
    "from ultralytics import YOLO\n",
    "import torch\n",
    "import math\n",
    "# Load image\n",
    "image_path = '/home/taheuber/datasets/Train-Tracks-2-1/test/images/WIN_20220602_13_39_06_Pro_jpg.rf.9d150ea5b5a0d862313c7f2af6e70f1f.jpg'\n",
    "image = cv2.imread(image_path)\n",
    "image = cv2.resize(image, (640, 640))\n",
    "c_x = \n",
    "c_y =\n",
    "f_x =\n",
    "f_y =\n",
    "if image is None:\n",
    "    print(\"Error: Unable to load image.\")\n",
    "    exit()\n",
    "\n",
    "gray = cv2.cvtColor(image, cv2.COLOR_BGR2GRAY)\n",
    "\n",
    "# Load YOLO model and get segmentation masks\n",
    "model = YOLO(\"/home/taheuber/runs/segment/train4/weights/best.pt\")\n",
    "results = model(image, device='0', imgsz=640, conf=0.6, half=True)\n",
    "boxes = results[0].boxes.data\n",
    "masks = results[0].masks.data  # Get segmentation masksclss\n",
    "\n",
    "clss = boxes[:,5]\n",
    "track_indices = torch.where(clss == 0)\n",
    "track_masks = masks[track_indices]\n",
    "track_masks = torch.any(track_masks, dim=0).int() * 255\n",
    "track_masks_uint8 = track_masks.cpu().numpy().astype(np.uint8)\n",
    "# Create a binary mask from the segmentation masks\n",
    "if masks is not None:\n",
    "    # Convert masks to a binary representation and combine all masks into a single mask\n",
    " \n",
    "    # Apply the binary mask to the original image\n",
    "    masked_image = cv2.bitwise_and(image, image, mask=track_masks_uint8)  # Keep only masked areas\n",
    "\n",
    "    # Apply Canny edge detection only to the masked area\n",
    "    gray_masked_image = cv2.cvtColor(masked_image, cv2.COLOR_BGR2GRAY)\n",
    "    edges = cv2.Canny(gray_masked_image, 250, 300)  # Apply edge detection\n",
    "\n",
    "    # Hough Line Transformation\n",
    "    lines = cv2.HoughLinesP(edges, 1, np.pi / 180, 100, minLineLength=10, maxLineGap=10)\n",
    "\n",
    "    # Create a copy of the original image to draw detected lines \n",
    "    line_image = np.copy(image)\n",
    "    # Determine the longest line\n",
    "    longest_line = None\n",
    "    max_length = 0\n",
    "    # Draw the detected lines on the copy of the original image\n",
    "    if lines is not None:\n",
    "        for line in lines:\n",
    "            x1, y1, x2, y2 = line[0]\n",
    "            length = math.sqrt((x2 - x1) ** 2 + (y2 - y1) ** 2)\n",
    "            if length > max_length:\n",
    "                max_length = length\n",
    "                longest_line = (x1, y1, x2, y2)\n",
    "    x1, y1, x2, y2 = longest_line\n",
    "    angle = math.atan2(y2 - y1, x2 - x1)  # In radians\n",
    "    \n",
    "    # Display the starting point and draw the longest line\n",
    "    line_image = np.copy(image)\n",
    "    cv2.line(line_image, (x1, y1), (x2, y2), (0, 0, 255), 2)  # Draw the line in red\n",
    "    cv2.circle(line_image, (x2, y2), radius=5, color=(0, 255, 0), thickness=-1)  # Mark the start point in green\n",
    "    \n",
    "    cv2.imshow(\"Image with Longest Line and Start Point\", line_image)\n",
    "    cv2.waitKey(0)\n",
    "    cv2.destroyAllWindows()\n",
    "\n",
    "else:\n",
    "    print(\"No masks found in the segmentation results.\")\n"
   ]
  },
  {
   "cell_type": "code",
   "execution_count": 26,
   "id": "56c12980-d39f-44b8-a816-2c144c0c41dd",
   "metadata": {},
   "outputs": [
    {
     "name": "stdout",
     "output_type": "stream",
     "text": [
      "lines [[[494 246 639 284]]\n",
      "\n",
      " [[471 242 631 290]]]\n"
     ]
    }
   ],
   "source": [
    "print(\"lines\",lines)\n"
   ]
  },
  {
   "cell_type": "markdown",
   "id": "78cc1e2d-bf47-4232-a563-fb843c296b2c",
   "metadata": {},
   "source": []
  },
  {
   "cell_type": "code",
   "execution_count": null,
   "id": "c18cb4fb-0ded-4964-bf8a-46664ce5c67f",
   "metadata": {},
   "outputs": [],
   "source": []
  },
  {
   "cell_type": "code",
   "execution_count": null,
   "id": "5f040ca9-9368-4d6e-8261-a3404d020e68",
   "metadata": {},
   "outputs": [],
   "source": []
  }
 ],
 "metadata": {
  "kernelspec": {
   "display_name": "Python 3 (ipykernel)",
   "language": "python",
   "name": "python3"
  },
  "language_info": {
   "codemirror_mode": {
    "name": "ipython",
    "version": 3
   },
   "file_extension": ".py",
   "mimetype": "text/x-python",
   "name": "python",
   "nbconvert_exporter": "python",
   "pygments_lexer": "ipython3",
   "version": "3.8.10"
  }
 },
 "nbformat": 4,
 "nbformat_minor": 5
}
